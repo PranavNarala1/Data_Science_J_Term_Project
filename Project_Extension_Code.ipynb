{
  "nbformat": 4,
  "nbformat_minor": 0,
  "metadata": {
    "colab": {
      "provenance": []
    },
    "kernelspec": {
      "name": "python3",
      "display_name": "Python 3"
    },
    "language_info": {
      "name": "python"
    },
    "accelerator": "GPU",
    "gpuClass": "standard"
  },
  "cells": [
    {
      "cell_type": "markdown",
      "source": [
        "# Can you make accurate predictions about future volatility from patterns in historical volatility? #\n",
        " This notebook aims to answer that question by comparing AI models to an established model of the volatility of the market known as the CBOE Volatility Index."
      ],
      "metadata": {
        "id": "CWy_Th7EjTtG"
      }
    },
    {
      "cell_type": "code",
      "source": [
        "%%capture\n",
        "!pip install yfinance\n",
        "import yfinance as yf\n",
        "import pandas as pd\n",
        "import numpy as np\n",
        "import math\n",
        "from datetime import date\n",
        "from matplotlib import pyplot as plt"
      ],
      "metadata": {
        "id": "TlLuEU60kIeV"
      },
      "execution_count": null,
      "outputs": []
    },
    {
      "cell_type": "markdown",
      "source": [
        "**Data Collection**"
      ],
      "metadata": {
        "id": "n7uFvL6BkDvv"
      }
    },
    {
      "cell_type": "code",
      "source": [
        "# List of stocks to investigate\n",
        "\n",
        "tickers = [\"LMT\", \"RTX\", \"BA\", \"NOC\", \"GD\", \"DRS\", \"AAPL\", \"T\", \"GOOG\", \"MSFT\",\n",
        "           \"META\", \"CSCO\", \"ADM\", \"PEP\", \"TSN\", \"MDLZ\", \"KO\", \"GIS\", \"UNH\",\n",
        "           \"CI\", \"CVS\", \"CAH\", \"ABC\", \"MCK\", \"WMT\", \"COST\", \"HD\", \"TGT\", \n",
        "           \"AMZN\", \"BBY\", \"BRK-B\", \"JPM\", \"BAC\", \"WFC\", \"C\", \"BLK\"]\n",
        "\n",
        "# All S&P 500 Stocks. Don't use until you're sure the code works.\n",
        "tickers_2 = ['AAPL', 'MSFT', 'GOOG', 'GOOGL', 'AMZN', 'BRK-B', 'XOM', 'UNH',\n",
        "             'JNJ', 'V', 'NVDA', 'JPM', 'WMT', 'TSLA', 'META', 'MA', 'PG', \n",
        "             'CVX', 'LLY', 'HD', 'MRK', 'BAC', 'ABBV', 'PFE', 'KO', 'AVGO',\n",
        "             'PEP', 'ORCL', 'TMO', 'COST', 'CSCO', 'NKE', 'DHR', 'MCD', 'ABT',\n",
        "             'ACN', 'TMUS', 'DIS', 'VZ', 'NEE', 'CMCSA', 'WFC', 'LIN', 'TXN', \n",
        "             'ADBE', 'UPS', 'PM', 'MS', 'BMY', 'SCHW', 'COP', 'CRM', 'RTX', \n",
        "             'NFLX', 'HON', 'AMGN', 'T', 'QCOM', 'CAT', 'UNP', 'IBM', 'LOW', \n",
        "             'DE', 'BA', 'GS', 'INTC', 'SPGI', 'SBUX', 'LMT', 'CVS', 'AXP', \n",
        "             'ELV', 'AMD', 'BLK', 'PLD', 'INTU', 'AMT', 'GILD', 'MDT', 'ADP',\n",
        "             'SYK', 'C', 'CI', 'TJX', 'CB', 'EL', 'AMAT', 'MDLZ', 'PYPL', \n",
        "             'ISRG', 'BKNG', 'MMC', 'GE', 'ADI', 'NOW', 'SLB', 'MO', 'DUK', \n",
        "             'PGR', 'EOG', 'SO', 'REGN', 'VRTX', 'NOC', 'ZTS', 'TGT', 'BDX', \n",
        "             'MRNA', 'HCA', 'MMM', 'ITW', 'USB', 'APD', 'CSX', 'PNC', 'GD', \n",
        "             'EQIX', 'BSX', 'ETN', 'CCI', 'AON', 'FISV', 'FCX', 'CL', 'LRCX', \n",
        "             'CME', 'SHW', 'WM', 'TFC', 'HUM', 'MU', 'ICE', 'ATVI', 'CHTR', \n",
        "             'OXY', 'KLAC', 'NSC', 'EMR', 'PXD', 'MCO', 'MPC', 'MET', 'GM', \n",
        "             'MCK', 'F', 'D', 'MNST', 'VLO', 'PSA', 'DG', 'KHC', 'SNPS', 'ORLY',\n",
        "             'MAR', 'SRE', 'KDP', 'AEP', 'GIS', 'PSX', 'FDX', 'APH', 'EW', \n",
        "             'ADM', 'ROP', 'AIG', 'JCI', 'HES', 'A', 'CDNS', 'KMB', 'HSY', \n",
        "             'CTAS', 'TRV', 'CTVA', 'AFL', 'AZO', 'CNC', 'MSI', 'NXPI', 'ECL', \n",
        "             'PAYX', 'ADSK', 'EXC', 'KMI', 'NEM', 'CMG', 'DVN', 'O', 'TT', \n",
        "             'BIIB', 'DXCM', 'MCHP', 'SPG', 'DOW', 'STZ', 'AJG', 'FIS', 'ROST', \n",
        "             'LVS', 'IQV', 'SYY', 'PH', 'MSCI', 'WMB', 'NUE', 'TEL', 'XEL', \n",
        "             'RSG', 'BK', 'IDXX', 'COF', 'HAL', 'LHX', 'CARR', 'FTNT', 'DD', \n",
        "             'PRU', 'TDG', 'HLT', 'ALL', 'YUM', 'ANET', 'CMI', 'PCAR', 'AMP', \n",
        "             'EA', 'ED', 'ODFL', 'OTIS', 'MTD', 'WELL', 'ABC', 'CTSH', 'AME', \n",
        "             'SBAC', 'DHI', 'ENPH', 'DLTR', 'VICI', 'KR', 'CSGP', 'ROK', 'WBD',\n",
        "             'KEYS', 'PCG', 'OKE', 'WBA', 'BKR', 'BF-B', 'RMD', 'PEG', 'NDAQ', \n",
        "             'PPG', 'GLW', 'DLR', 'WEC', 'LYB', 'ILMN', 'STT', 'ES', 'IFF', \n",
        "             'GPN', 'AWK', 'DFS', 'GWW', 'VRSK', 'ALB', 'LEN', 'ON', 'FAST', \n",
        "             'HPQ', 'WTW', 'APTV', 'CEG', 'URI', 'CBRE', 'TROW', 'IT', 'EFX', \n",
        "             'CDW', 'EIX', 'ZBH', 'MTB', 'ARE', 'FANG', 'HRL', 'DAL', 'EBAY', \n",
        "             'ULTA', 'FE', 'RJF', 'TSCO', 'HIG', 'VMC', 'FITB', 'K', 'GPC', \n",
        "             'AVB', 'FTV', 'WY', 'ACGL', 'TSN', 'EQR', 'IR', 'AEE', 'DTE', \n",
        "             'FRC', 'BAX', 'PPL', 'VRSN', 'LH', 'LUV', 'ANSS', 'MLM', 'ETR', \n",
        "             'MKC', 'PFG', 'HBAN', 'PWR', 'XYL', 'HPE', 'RF', 'EXR', 'CFG', \n",
        "             'NTRS', 'CAH', 'DOV', 'CTRA', 'STE', 'WAT', 'VTR', 'CHD', 'HOLX', \n",
        "             'EPAM', 'CNP', 'TDY', 'WRB', 'STLD', 'INVH', 'CAG', 'BBY', 'FSLR', \n",
        "             'WAB', 'GRMN', 'MPWR', 'CMS', 'JBHT', 'MAA', 'AES', 'ROL', 'ALGN', \n",
        "             'WST', 'PAYC', 'AMCR', 'DRI', 'BALL', 'INCY', 'IEX', 'CLX', 'EXPD',\n",
        "             'TTWO', 'MOH', 'BRO', 'MRO', 'SEDG', 'COO', 'OMC', 'KEY', 'TRGP', \n",
        "             'BR', 'FOX', 'FOXA', 'CINF', 'CF', 'LYV', 'DGX', 'HWM', 'UAL', \n",
        "             'PKI', 'SJM', 'ETSY', 'ATO', 'CPB', 'FMC', 'SWKS', 'J', 'MOS', \n",
        "             'RCL', 'FDS', 'NVR', 'AVY', 'EXPE', 'LKQ', 'PTC', 'IRM', 'SYF', \n",
        "             'ZBRA', 'SIVB', 'TER', 'MGM', 'BEN', 'TXT', 'CPRT', 'PEAK', 'EVRG',\n",
        "             'APA', 'FLT', 'GEN', 'ESS', 'L', 'VTRS', 'LNT', 'LW', 'IPG', 'KIM',\n",
        "             'AKAM', 'NDSN', 'NTAP', 'RE', 'POOL', 'LDOS', 'IP', 'TRMB', 'PARA',\n",
        "             'JKHY', 'BIO', 'SNA', 'CE', 'TYL', 'UDR', 'CBOE', 'MTCH', 'EQT', \n",
        "             'SWK', 'CPT', 'PKG', 'HST', 'MKTX', 'STX', 'WDC', 'DPZ', 'VFC', \n",
        "             'CRL', 'GL', 'MAS', 'PHM', 'CCL', 'REG', 'NI', 'NWS', 'NWSA', \n",
        "             'TFX', 'WYNN', 'BXP', 'CHRW', 'EMN', 'AAL', 'HSIC', 'UHS', 'KMX',\n",
        "             'BBWI', 'BWA', 'TPR', 'JNPR', 'CDAY', 'CZR', 'QRVO', 'ALLE', 'WRK',\n",
        "             'AOS', 'AAP', 'HII', 'HAS', 'CMA', 'IVZ', 'FRT', 'FFIV', 'CTLT', \n",
        "             'PNW', 'WHR', 'RHI', 'PNR', 'RL', 'DISH', 'OGN', 'SEE', 'XRAY', \n",
        "             'ZION', 'MHK', 'NRG', 'GNRC', 'SBNY', 'DVA', 'AIZ', 'DXC', 'NCLH', \n",
        "             'ALK', 'NWL', 'LUMN', 'LNC', 'TECH', 'TAP', 'GEHC']"
      ],
      "metadata": {
        "id": "hWx6eyP-knhn"
      },
      "execution_count": null,
      "outputs": []
    },
    {
      "cell_type": "code",
      "source": [
        "# Function that fetches historical volatility as an array\n",
        "\n",
        "def historical_volatility(ticker, timeString):\n",
        "    ticker = yf.Ticker(ticker)\n",
        "    history = ticker.history(timeString)\n",
        "    history = history[[\"Close\"]]\n",
        "    months = []\n",
        "    for i in range(int(np.floor(len(history)/21))):\n",
        "        months += [[i[0] for i in (history.values.tolist())[i*21:(i+1)*21]]]\n",
        "\n",
        "    for i in range(len(months)):\n",
        "        for j in range(len(months[i]) - 1):\n",
        "            months[i][j] = math.log(months[i][j + 1]/months[i][j]) * (252**0.5)\n",
        "        months[i].pop()\n",
        "\n",
        "    months = [np.std(month) for month in months]\n",
        "    \n",
        "    return months"
      ],
      "metadata": {
        "id": "t3NzpABdjlfA"
      },
      "execution_count": null,
      "outputs": []
    },
    {
      "cell_type": "code",
      "source": [
        "print(historical_volatility(\"AAPL\", \"5Y\"))"
      ],
      "metadata": {
        "colab": {
          "base_uri": "https://localhost:8080/"
        },
        "id": "ogfdoyFXhMO-",
        "outputId": "02ad52c1-e31c-4548-9926-452843d02d62"
      },
      "execution_count": null,
      "outputs": [
        {
          "output_type": "stream",
          "name": "stdout",
          "text": [
            "[0.3481156322396619, 0.24479327903683146, 0.2503722221962719, 0.2252570666989281, 0.12697242767034578, 0.13681634954521685, 0.2462179601527052, 0.2163946461765324, 0.29636807845398605, 0.4409422867912902, 0.36371156366740476, 0.4512803808640871, 0.2686078591749891, 0.22581646990202545, 0.11997483950008787, 0.34454070825376576, 0.22210846745524168, 0.16843747303482925, 0.3808120992610219, 0.19766305917244686, 0.20128926262749355, 0.17574036142650593, 0.1667455244065446, 0.20031117298342413, 0.3416641789529347, 1.0450167110979356, 0.4672302072934838, 0.2163924363900451, 0.29158420068769886, 0.2623270407296906, 0.4242648723156113, 0.5356789202412546, 0.3555985379445189, 0.40101419731848165, 0.25519859289157665, 0.3363265266513027, 0.2608342425731374, 0.37674799942786813, 0.2136250494459738, 0.2457322299164526, 0.15415366547490258, 0.21644911259905217, 0.15045610820930375, 0.22235564932782623, 0.18306909604168822, 0.18975705842932392, 0.33394371005130075, 0.19649593114311045, 0.34251359683326776, 0.31601489324135207, 0.2748482248280345, 0.5072275433438327, 0.3971294391008014, 0.24071083122995998, 0.23916056187083604, 0.3219585581299082, 0.37486309811136775, 0.503794564898258, 0.32343781899515955]\n"
          ]
        }
      ]
    },
    {
      "cell_type": "code",
      "source": [
        "inputsArray = []\n",
        "\n",
        "for ticker in tickers_2:\n",
        "  inputsArray += [historical_volatility(ticker, \"5Y\")]"
      ],
      "metadata": {
        "id": "1OZUS6Cqs_nb"
      },
      "execution_count": null,
      "outputs": []
    },
    {
      "cell_type": "code",
      "source": [
        "months_to_predict = 12 # How many months in the future both the model and our measurements will try to predict.\n",
        "size_of_input = 12\n",
        "\n",
        "x = []\n",
        "y = []\n",
        "\n",
        "for i in range(len(inputsArray)):\n",
        "  if(len(inputsArray[i]) > 47):\n",
        "    if(i%5 != 0):\n",
        "      randomNum = (i%24 + 1)\n",
        "      y += [inputsArray[i][randomNum: randomNum + months_to_predict]]\n",
        "      x += [inputsArray[i][randomNum + months_to_predict: randomNum + months_to_predict + size_of_input]]\n",
        "    else:\n",
        "      y += [inputsArray[i][:months_to_predict]]\n",
        "      x += [inputsArray[i][months_to_predict: months_to_predict + size_of_input]]\n",
        "\n",
        "null_prediction = []\n",
        "for i in x:\n",
        "  month_data = []\n",
        "  for j in range(months_to_predict):\n",
        "    month_data += [i[0]]\n",
        "  null_prediction += [month_data]\n",
        "\n",
        "x.reverse()\n",
        "y.reverse()\n",
        "\n",
        "\n",
        "x_train = []\n",
        "y_train = []\n",
        "x_test = []\n",
        "y_test = []\n",
        "\n",
        "null_test = []\n",
        "\n",
        "for i in range(len(x)):\n",
        "  if i%5 == 0:\n",
        "    y_test += [y[i]]\n",
        "    x_test += [x[i]]\n",
        "    null_test += [null_prediction[i]]\n",
        "  else:\n",
        "    y_train += [y[i]]\n",
        "    x_train += [x[i]]\n",
        "\n",
        "\n",
        "print(x[0])\n",
        "print(y[0])\n",
        "print(null_prediction[0])\n",
        "print(len(x), len(y), len(x_train), len(x_test), len(null_test), len(x[0]))"
      ],
      "metadata": {
        "colab": {
          "base_uri": "https://localhost:8080/"
        },
        "id": "Y-SCu-Y0sZw7",
        "outputId": "2e9a9188-18bd-4303-8397-63f0158e0cd3"
      },
      "execution_count": null,
      "outputs": [
        {
          "output_type": "stream",
          "name": "stdout",
          "text": [
            "[0.23803434419131508, 0.2913779528315302, 0.4496261731714699, 0.2581849990864486, 0.2807007828248014, 0.381299664764275, 0.25885120888982516, 0.18983022839505306, 0.24379973526265808, 0.21462444363138777, 0.20229508373802071, 0.27422089696354646]\n",
            "[0.19688397794509202, 0.11500108090856599, 0.2799147853429554, 0.8793655659387677, 0.5564245579971562, 0.6263117289397936, 0.5238161404794415, 0.34901840591794836, 0.20920952273706026, 0.26360599405602364, 0.27612252420421923, 0.49860431292767105]\n",
            "[0.26860882335898334, 0.26860882335898334, 0.26860882335898334, 0.26860882335898334, 0.26860882335898334, 0.26860882335898334, 0.26860882335898334, 0.26860882335898334, 0.26860882335898334, 0.26860882335898334, 0.26860882335898334, 0.26860882335898334]\n",
            "494 494 395 99 99 12\n"
          ]
        }
      ]
    },
    {
      "cell_type": "markdown",
      "source": [
        "**Model Creation**"
      ],
      "metadata": {
        "id": "mo-CvzHPneEg"
      }
    },
    {
      "cell_type": "code",
      "source": [
        "from tensorflow import keras\n",
        "from keras.layers import LSTM, Dropout, Dense\n",
        "\n",
        "model = keras.models.Sequential([\n",
        "    LSTM(units=100, return_sequences=True, input_shape=(12,1), activation='tanh'),\n",
        "    Dropout(0.2),\n",
        "    LSTM(units=100, return_sequences=False, activation='tanh'),\n",
        "    Dense(12, activation='swish')]\n",
        ")\n",
        "\n",
        "\n",
        "model.summary()"
      ],
      "metadata": {
        "id": "hNjkUETrnnW6",
        "colab": {
          "base_uri": "https://localhost:8080/"
        },
        "outputId": "72e44884-426f-4860-b3a5-0c656ecb11b7"
      },
      "execution_count": null,
      "outputs": [
        {
          "output_type": "stream",
          "name": "stdout",
          "text": [
            "Model: \"sequential_2\"\n",
            "_________________________________________________________________\n",
            " Layer (type)                Output Shape              Param #   \n",
            "=================================================================\n",
            " lstm_4 (LSTM)               (None, 12, 100)           40800     \n",
            "                                                                 \n",
            " dropout_2 (Dropout)         (None, 12, 100)           0         \n",
            "                                                                 \n",
            " lstm_5 (LSTM)               (None, 100)               80400     \n",
            "                                                                 \n",
            " dense_2 (Dense)             (None, 12)                1212      \n",
            "                                                                 \n",
            "=================================================================\n",
            "Total params: 122,412\n",
            "Trainable params: 122,412\n",
            "Non-trainable params: 0\n",
            "_________________________________________________________________\n"
          ]
        }
      ]
    },
    {
      "cell_type": "code",
      "source": [
        "model.compile(loss='mean_squared_error', optimizer='SGD', metrics='mean_absolute_percentage_error')"
      ],
      "metadata": {
        "id": "KjHk_FETDZPg"
      },
      "execution_count": null,
      "outputs": []
    },
    {
      "cell_type": "code",
      "source": [
        "model.fit(x=x_train, y=y_train, batch_size=50, epochs=100, validation_data=(x_test, y_test))"
      ],
      "metadata": {
        "colab": {
          "base_uri": "https://localhost:8080/"
        },
        "id": "Dvt38TJTFtAM",
        "outputId": "21f6d2e0-b586-479a-cef7-ec4285bb1401"
      },
      "execution_count": null,
      "outputs": [
        {
          "output_type": "stream",
          "name": "stdout",
          "text": [
            "Epoch 1/100\n",
            "8/8 [==============================] - 4s 122ms/step - loss: 0.1559 - mean_absolute_percentage_error: 97.3235 - val_loss: 0.1244 - val_mean_absolute_percentage_error: 96.1494\n",
            "Epoch 2/100\n",
            "8/8 [==============================] - 0s 11ms/step - loss: 0.1533 - mean_absolute_percentage_error: 95.4832 - val_loss: 0.1220 - val_mean_absolute_percentage_error: 94.2528\n",
            "Epoch 3/100\n",
            "8/8 [==============================] - 0s 11ms/step - loss: 0.1508 - mean_absolute_percentage_error: 93.6085 - val_loss: 0.1196 - val_mean_absolute_percentage_error: 92.3427\n",
            "Epoch 4/100\n",
            "8/8 [==============================] - 0s 11ms/step - loss: 0.1483 - mean_absolute_percentage_error: 91.7633 - val_loss: 0.1172 - val_mean_absolute_percentage_error: 90.4263\n",
            "Epoch 5/100\n",
            "8/8 [==============================] - 0s 11ms/step - loss: 0.1458 - mean_absolute_percentage_error: 89.8429 - val_loss: 0.1149 - val_mean_absolute_percentage_error: 88.5036\n",
            "Epoch 6/100\n",
            "8/8 [==============================] - 0s 11ms/step - loss: 0.1433 - mean_absolute_percentage_error: 87.9652 - val_loss: 0.1126 - val_mean_absolute_percentage_error: 86.5654\n",
            "Epoch 7/100\n",
            "8/8 [==============================] - 0s 11ms/step - loss: 0.1409 - mean_absolute_percentage_error: 86.0512 - val_loss: 0.1104 - val_mean_absolute_percentage_error: 84.6121\n",
            "Epoch 8/100\n",
            "8/8 [==============================] - 0s 14ms/step - loss: 0.1384 - mean_absolute_percentage_error: 84.1289 - val_loss: 0.1081 - val_mean_absolute_percentage_error: 82.6547\n",
            "Epoch 9/100\n",
            "8/8 [==============================] - 0s 12ms/step - loss: 0.1361 - mean_absolute_percentage_error: 82.2144 - val_loss: 0.1059 - val_mean_absolute_percentage_error: 80.6917\n",
            "Epoch 10/100\n",
            "8/8 [==============================] - 0s 13ms/step - loss: 0.1337 - mean_absolute_percentage_error: 80.2685 - val_loss: 0.1037 - val_mean_absolute_percentage_error: 78.7149\n",
            "Epoch 11/100\n",
            "8/8 [==============================] - 0s 13ms/step - loss: 0.1314 - mean_absolute_percentage_error: 78.3514 - val_loss: 0.1015 - val_mean_absolute_percentage_error: 76.7381\n",
            "Epoch 12/100\n",
            "8/8 [==============================] - 0s 12ms/step - loss: 0.1290 - mean_absolute_percentage_error: 76.3917 - val_loss: 0.0994 - val_mean_absolute_percentage_error: 74.7657\n",
            "Epoch 13/100\n",
            "8/8 [==============================] - 0s 13ms/step - loss: 0.1268 - mean_absolute_percentage_error: 74.4898 - val_loss: 0.0973 - val_mean_absolute_percentage_error: 72.8054\n",
            "Epoch 14/100\n",
            "8/8 [==============================] - 0s 10ms/step - loss: 0.1246 - mean_absolute_percentage_error: 72.4986 - val_loss: 0.0953 - val_mean_absolute_percentage_error: 70.8801\n",
            "Epoch 15/100\n",
            "8/8 [==============================] - 0s 11ms/step - loss: 0.1223 - mean_absolute_percentage_error: 70.5675 - val_loss: 0.0932 - val_mean_absolute_percentage_error: 68.9444\n",
            "Epoch 16/100\n",
            "8/8 [==============================] - 0s 12ms/step - loss: 0.1202 - mean_absolute_percentage_error: 68.6247 - val_loss: 0.0912 - val_mean_absolute_percentage_error: 67.0110\n",
            "Epoch 17/100\n",
            "8/8 [==============================] - 0s 11ms/step - loss: 0.1180 - mean_absolute_percentage_error: 66.7962 - val_loss: 0.0893 - val_mean_absolute_percentage_error: 65.1033\n",
            "Epoch 18/100\n",
            "8/8 [==============================] - 0s 11ms/step - loss: 0.1158 - mean_absolute_percentage_error: 64.7846 - val_loss: 0.0874 - val_mean_absolute_percentage_error: 63.2238\n",
            "Epoch 19/100\n",
            "8/8 [==============================] - 0s 10ms/step - loss: 0.1139 - mean_absolute_percentage_error: 63.0333 - val_loss: 0.0855 - val_mean_absolute_percentage_error: 61.3973\n",
            "Epoch 20/100\n",
            "8/8 [==============================] - 0s 12ms/step - loss: 0.1118 - mean_absolute_percentage_error: 61.2358 - val_loss: 0.0836 - val_mean_absolute_percentage_error: 59.6427\n",
            "Epoch 21/100\n",
            "8/8 [==============================] - 0s 11ms/step - loss: 0.1098 - mean_absolute_percentage_error: 59.4826 - val_loss: 0.0818 - val_mean_absolute_percentage_error: 57.9485\n",
            "Epoch 22/100\n",
            "8/8 [==============================] - 0s 13ms/step - loss: 0.1079 - mean_absolute_percentage_error: 57.7476 - val_loss: 0.0801 - val_mean_absolute_percentage_error: 56.3234\n",
            "Epoch 23/100\n",
            "8/8 [==============================] - 0s 10ms/step - loss: 0.1059 - mean_absolute_percentage_error: 56.1447 - val_loss: 0.0783 - val_mean_absolute_percentage_error: 54.7476\n",
            "Epoch 24/100\n",
            "8/8 [==============================] - 0s 11ms/step - loss: 0.1041 - mean_absolute_percentage_error: 54.5192 - val_loss: 0.0767 - val_mean_absolute_percentage_error: 53.2311\n",
            "Epoch 25/100\n",
            "8/8 [==============================] - 0s 12ms/step - loss: 0.1023 - mean_absolute_percentage_error: 52.9787 - val_loss: 0.0750 - val_mean_absolute_percentage_error: 51.7475\n",
            "Epoch 26/100\n",
            "8/8 [==============================] - 0s 10ms/step - loss: 0.1004 - mean_absolute_percentage_error: 51.5681 - val_loss: 0.0735 - val_mean_absolute_percentage_error: 50.3359\n",
            "Epoch 27/100\n",
            "8/8 [==============================] - 0s 10ms/step - loss: 0.0987 - mean_absolute_percentage_error: 50.1538 - val_loss: 0.0719 - val_mean_absolute_percentage_error: 49.0351\n",
            "Epoch 28/100\n",
            "8/8 [==============================] - 0s 10ms/step - loss: 0.0969 - mean_absolute_percentage_error: 48.8242 - val_loss: 0.0704 - val_mean_absolute_percentage_error: 47.8014\n",
            "Epoch 29/100\n",
            "8/8 [==============================] - 0s 12ms/step - loss: 0.0955 - mean_absolute_percentage_error: 47.6959 - val_loss: 0.0690 - val_mean_absolute_percentage_error: 46.6763\n",
            "Epoch 30/100\n",
            "8/8 [==============================] - 0s 12ms/step - loss: 0.0938 - mean_absolute_percentage_error: 46.4962 - val_loss: 0.0676 - val_mean_absolute_percentage_error: 45.6555\n",
            "Epoch 31/100\n",
            "8/8 [==============================] - 0s 12ms/step - loss: 0.0923 - mean_absolute_percentage_error: 45.4370 - val_loss: 0.0663 - val_mean_absolute_percentage_error: 44.7174\n",
            "Epoch 32/100\n",
            "8/8 [==============================] - 0s 11ms/step - loss: 0.0909 - mean_absolute_percentage_error: 44.4729 - val_loss: 0.0650 - val_mean_absolute_percentage_error: 43.8546\n",
            "Epoch 33/100\n",
            "8/8 [==============================] - 0s 12ms/step - loss: 0.0893 - mean_absolute_percentage_error: 43.5488 - val_loss: 0.0637 - val_mean_absolute_percentage_error: 43.0589\n",
            "Epoch 34/100\n",
            "8/8 [==============================] - 0s 11ms/step - loss: 0.0880 - mean_absolute_percentage_error: 42.6955 - val_loss: 0.0625 - val_mean_absolute_percentage_error: 42.3629\n",
            "Epoch 35/100\n",
            "8/8 [==============================] - 0s 12ms/step - loss: 0.0867 - mean_absolute_percentage_error: 41.9638 - val_loss: 0.0614 - val_mean_absolute_percentage_error: 41.7441\n",
            "Epoch 36/100\n",
            "8/8 [==============================] - 0s 11ms/step - loss: 0.0853 - mean_absolute_percentage_error: 41.2298 - val_loss: 0.0603 - val_mean_absolute_percentage_error: 41.1812\n",
            "Epoch 37/100\n",
            "8/8 [==============================] - 0s 11ms/step - loss: 0.0841 - mean_absolute_percentage_error: 40.7252 - val_loss: 0.0592 - val_mean_absolute_percentage_error: 40.6678\n",
            "Epoch 38/100\n",
            "8/8 [==============================] - 0s 12ms/step - loss: 0.0830 - mean_absolute_percentage_error: 40.1838 - val_loss: 0.0582 - val_mean_absolute_percentage_error: 40.2357\n",
            "Epoch 39/100\n",
            "8/8 [==============================] - 0s 13ms/step - loss: 0.0818 - mean_absolute_percentage_error: 39.7664 - val_loss: 0.0573 - val_mean_absolute_percentage_error: 39.8810\n",
            "Epoch 40/100\n",
            "8/8 [==============================] - 0s 11ms/step - loss: 0.0808 - mean_absolute_percentage_error: 39.3842 - val_loss: 0.0564 - val_mean_absolute_percentage_error: 39.5909\n",
            "Epoch 41/100\n",
            "8/8 [==============================] - 0s 11ms/step - loss: 0.0797 - mean_absolute_percentage_error: 39.1087 - val_loss: 0.0555 - val_mean_absolute_percentage_error: 39.3539\n",
            "Epoch 42/100\n",
            "8/8 [==============================] - 0s 11ms/step - loss: 0.0787 - mean_absolute_percentage_error: 38.9354 - val_loss: 0.0547 - val_mean_absolute_percentage_error: 39.1800\n",
            "Epoch 43/100\n",
            "8/8 [==============================] - 0s 10ms/step - loss: 0.0778 - mean_absolute_percentage_error: 38.6501 - val_loss: 0.0540 - val_mean_absolute_percentage_error: 39.0715\n",
            "Epoch 44/100\n",
            "8/8 [==============================] - 0s 10ms/step - loss: 0.0769 - mean_absolute_percentage_error: 38.6410 - val_loss: 0.0532 - val_mean_absolute_percentage_error: 39.0240\n",
            "Epoch 45/100\n",
            "8/8 [==============================] - 0s 11ms/step - loss: 0.0761 - mean_absolute_percentage_error: 38.5253 - val_loss: 0.0525 - val_mean_absolute_percentage_error: 39.0319\n",
            "Epoch 46/100\n",
            "8/8 [==============================] - 0s 14ms/step - loss: 0.0752 - mean_absolute_percentage_error: 38.5319 - val_loss: 0.0519 - val_mean_absolute_percentage_error: 39.0798\n",
            "Epoch 47/100\n",
            "8/8 [==============================] - 0s 11ms/step - loss: 0.0745 - mean_absolute_percentage_error: 38.5785 - val_loss: 0.0513 - val_mean_absolute_percentage_error: 39.1529\n",
            "Epoch 48/100\n",
            "8/8 [==============================] - 0s 11ms/step - loss: 0.0736 - mean_absolute_percentage_error: 38.6549 - val_loss: 0.0507 - val_mean_absolute_percentage_error: 39.2639\n",
            "Epoch 49/100\n",
            "8/8 [==============================] - 0s 11ms/step - loss: 0.0731 - mean_absolute_percentage_error: 38.7674 - val_loss: 0.0502 - val_mean_absolute_percentage_error: 39.4016\n",
            "Epoch 50/100\n",
            "8/8 [==============================] - 0s 11ms/step - loss: 0.0724 - mean_absolute_percentage_error: 38.9396 - val_loss: 0.0497 - val_mean_absolute_percentage_error: 39.5726\n",
            "Epoch 51/100\n",
            "8/8 [==============================] - 0s 11ms/step - loss: 0.0718 - mean_absolute_percentage_error: 39.2780 - val_loss: 0.0492 - val_mean_absolute_percentage_error: 39.7719\n",
            "Epoch 52/100\n",
            "8/8 [==============================] - 0s 13ms/step - loss: 0.0711 - mean_absolute_percentage_error: 39.3218 - val_loss: 0.0488 - val_mean_absolute_percentage_error: 39.9965\n",
            "Epoch 53/100\n",
            "8/8 [==============================] - 0s 13ms/step - loss: 0.0706 - mean_absolute_percentage_error: 39.6519 - val_loss: 0.0483 - val_mean_absolute_percentage_error: 40.2379\n",
            "Epoch 54/100\n",
            "8/8 [==============================] - 0s 10ms/step - loss: 0.0701 - mean_absolute_percentage_error: 39.8706 - val_loss: 0.0480 - val_mean_absolute_percentage_error: 40.5201\n",
            "Epoch 55/100\n",
            "8/8 [==============================] - 0s 11ms/step - loss: 0.0696 - mean_absolute_percentage_error: 40.2687 - val_loss: 0.0476 - val_mean_absolute_percentage_error: 40.8090\n",
            "Epoch 56/100\n",
            "8/8 [==============================] - 0s 12ms/step - loss: 0.0691 - mean_absolute_percentage_error: 40.5425 - val_loss: 0.0473 - val_mean_absolute_percentage_error: 41.1090\n",
            "Epoch 57/100\n",
            "8/8 [==============================] - 0s 11ms/step - loss: 0.0688 - mean_absolute_percentage_error: 40.8838 - val_loss: 0.0470 - val_mean_absolute_percentage_error: 41.4238\n",
            "Epoch 58/100\n",
            "8/8 [==============================] - 0s 14ms/step - loss: 0.0683 - mean_absolute_percentage_error: 41.1951 - val_loss: 0.0467 - val_mean_absolute_percentage_error: 41.7465\n",
            "Epoch 59/100\n",
            "8/8 [==============================] - 0s 11ms/step - loss: 0.0680 - mean_absolute_percentage_error: 41.5863 - val_loss: 0.0464 - val_mean_absolute_percentage_error: 42.0885\n",
            "Epoch 60/100\n",
            "8/8 [==============================] - 0s 13ms/step - loss: 0.0676 - mean_absolute_percentage_error: 41.8424 - val_loss: 0.0461 - val_mean_absolute_percentage_error: 42.4402\n",
            "Epoch 61/100\n",
            "8/8 [==============================] - 0s 12ms/step - loss: 0.0673 - mean_absolute_percentage_error: 42.2888 - val_loss: 0.0459 - val_mean_absolute_percentage_error: 42.7901\n",
            "Epoch 62/100\n",
            "8/8 [==============================] - 0s 14ms/step - loss: 0.0670 - mean_absolute_percentage_error: 42.5237 - val_loss: 0.0457 - val_mean_absolute_percentage_error: 43.1515\n",
            "Epoch 63/100\n",
            "8/8 [==============================] - 0s 12ms/step - loss: 0.0666 - mean_absolute_percentage_error: 42.9159 - val_loss: 0.0455 - val_mean_absolute_percentage_error: 43.5063\n",
            "Epoch 64/100\n",
            "8/8 [==============================] - 0s 13ms/step - loss: 0.0663 - mean_absolute_percentage_error: 43.2111 - val_loss: 0.0453 - val_mean_absolute_percentage_error: 43.8744\n",
            "Epoch 65/100\n",
            "8/8 [==============================] - 0s 13ms/step - loss: 0.0661 - mean_absolute_percentage_error: 43.7822 - val_loss: 0.0451 - val_mean_absolute_percentage_error: 44.2211\n",
            "Epoch 66/100\n",
            "8/8 [==============================] - 0s 11ms/step - loss: 0.0658 - mean_absolute_percentage_error: 43.9052 - val_loss: 0.0450 - val_mean_absolute_percentage_error: 44.5902\n",
            "Epoch 67/100\n",
            "8/8 [==============================] - 0s 11ms/step - loss: 0.0655 - mean_absolute_percentage_error: 44.3314 - val_loss: 0.0448 - val_mean_absolute_percentage_error: 44.9468\n",
            "Epoch 68/100\n",
            "8/8 [==============================] - 0s 11ms/step - loss: 0.0654 - mean_absolute_percentage_error: 44.7410 - val_loss: 0.0447 - val_mean_absolute_percentage_error: 45.2901\n",
            "Epoch 69/100\n",
            "8/8 [==============================] - 0s 13ms/step - loss: 0.0653 - mean_absolute_percentage_error: 45.1373 - val_loss: 0.0446 - val_mean_absolute_percentage_error: 45.6205\n",
            "Epoch 70/100\n",
            "8/8 [==============================] - 0s 11ms/step - loss: 0.0650 - mean_absolute_percentage_error: 45.3274 - val_loss: 0.0444 - val_mean_absolute_percentage_error: 45.9492\n",
            "Epoch 71/100\n",
            "8/8 [==============================] - 0s 12ms/step - loss: 0.0649 - mean_absolute_percentage_error: 45.7622 - val_loss: 0.0443 - val_mean_absolute_percentage_error: 46.2718\n",
            "Epoch 72/100\n",
            "8/8 [==============================] - 0s 12ms/step - loss: 0.0647 - mean_absolute_percentage_error: 45.9551 - val_loss: 0.0442 - val_mean_absolute_percentage_error: 46.5822\n",
            "Epoch 73/100\n",
            "8/8 [==============================] - 0s 10ms/step - loss: 0.0646 - mean_absolute_percentage_error: 46.4709 - val_loss: 0.0442 - val_mean_absolute_percentage_error: 46.8804\n",
            "Epoch 74/100\n",
            "8/8 [==============================] - 0s 10ms/step - loss: 0.0644 - mean_absolute_percentage_error: 46.6176 - val_loss: 0.0441 - val_mean_absolute_percentage_error: 47.1724\n",
            "Epoch 75/100\n",
            "8/8 [==============================] - 0s 12ms/step - loss: 0.0642 - mean_absolute_percentage_error: 46.9501 - val_loss: 0.0440 - val_mean_absolute_percentage_error: 47.4555\n",
            "Epoch 76/100\n",
            "8/8 [==============================] - 0s 11ms/step - loss: 0.0640 - mean_absolute_percentage_error: 47.1478 - val_loss: 0.0439 - val_mean_absolute_percentage_error: 47.7313\n",
            "Epoch 77/100\n",
            "8/8 [==============================] - 0s 10ms/step - loss: 0.0639 - mean_absolute_percentage_error: 47.4287 - val_loss: 0.0439 - val_mean_absolute_percentage_error: 48.0094\n",
            "Epoch 78/100\n",
            "8/8 [==============================] - 0s 12ms/step - loss: 0.0639 - mean_absolute_percentage_error: 47.7352 - val_loss: 0.0438 - val_mean_absolute_percentage_error: 48.2665\n",
            "Epoch 79/100\n",
            "8/8 [==============================] - 0s 10ms/step - loss: 0.0637 - mean_absolute_percentage_error: 48.1343 - val_loss: 0.0437 - val_mean_absolute_percentage_error: 48.5089\n",
            "Epoch 80/100\n",
            "8/8 [==============================] - 0s 11ms/step - loss: 0.0636 - mean_absolute_percentage_error: 48.3117 - val_loss: 0.0437 - val_mean_absolute_percentage_error: 48.7535\n",
            "Epoch 81/100\n",
            "8/8 [==============================] - 0s 10ms/step - loss: 0.0636 - mean_absolute_percentage_error: 48.6307 - val_loss: 0.0437 - val_mean_absolute_percentage_error: 48.9953\n",
            "Epoch 82/100\n",
            "8/8 [==============================] - 0s 11ms/step - loss: 0.0634 - mean_absolute_percentage_error: 48.8211 - val_loss: 0.0436 - val_mean_absolute_percentage_error: 49.2297\n",
            "Epoch 83/100\n",
            "8/8 [==============================] - 0s 12ms/step - loss: 0.0633 - mean_absolute_percentage_error: 49.0797 - val_loss: 0.0436 - val_mean_absolute_percentage_error: 49.4475\n",
            "Epoch 84/100\n",
            "8/8 [==============================] - 0s 13ms/step - loss: 0.0633 - mean_absolute_percentage_error: 49.3067 - val_loss: 0.0435 - val_mean_absolute_percentage_error: 49.6681\n",
            "Epoch 85/100\n",
            "8/8 [==============================] - 0s 10ms/step - loss: 0.0633 - mean_absolute_percentage_error: 49.5214 - val_loss: 0.0435 - val_mean_absolute_percentage_error: 49.8660\n",
            "Epoch 86/100\n",
            "8/8 [==============================] - 0s 11ms/step - loss: 0.0632 - mean_absolute_percentage_error: 49.7144 - val_loss: 0.0435 - val_mean_absolute_percentage_error: 50.0537\n",
            "Epoch 87/100\n",
            "8/8 [==============================] - 0s 12ms/step - loss: 0.0632 - mean_absolute_percentage_error: 49.9339 - val_loss: 0.0435 - val_mean_absolute_percentage_error: 50.2449\n",
            "Epoch 88/100\n",
            "8/8 [==============================] - 0s 10ms/step - loss: 0.0630 - mean_absolute_percentage_error: 50.0144 - val_loss: 0.0434 - val_mean_absolute_percentage_error: 50.4404\n",
            "Epoch 89/100\n",
            "8/8 [==============================] - 0s 11ms/step - loss: 0.0631 - mean_absolute_percentage_error: 50.3052 - val_loss: 0.0434 - val_mean_absolute_percentage_error: 50.6166\n",
            "Epoch 90/100\n",
            "8/8 [==============================] - 0s 10ms/step - loss: 0.0631 - mean_absolute_percentage_error: 50.4172 - val_loss: 0.0434 - val_mean_absolute_percentage_error: 50.7952\n",
            "Epoch 91/100\n",
            "8/8 [==============================] - 0s 11ms/step - loss: 0.0630 - mean_absolute_percentage_error: 50.5739 - val_loss: 0.0434 - val_mean_absolute_percentage_error: 50.9604\n",
            "Epoch 92/100\n",
            "8/8 [==============================] - 0s 13ms/step - loss: 0.0627 - mean_absolute_percentage_error: 50.8873 - val_loss: 0.0434 - val_mean_absolute_percentage_error: 51.1059\n",
            "Epoch 93/100\n",
            "8/8 [==============================] - 0s 12ms/step - loss: 0.0627 - mean_absolute_percentage_error: 50.8182 - val_loss: 0.0434 - val_mean_absolute_percentage_error: 51.2679\n",
            "Epoch 94/100\n",
            "8/8 [==============================] - 0s 12ms/step - loss: 0.0629 - mean_absolute_percentage_error: 51.1269 - val_loss: 0.0433 - val_mean_absolute_percentage_error: 51.4127\n",
            "Epoch 95/100\n",
            "8/8 [==============================] - 0s 11ms/step - loss: 0.0627 - mean_absolute_percentage_error: 51.3321 - val_loss: 0.0433 - val_mean_absolute_percentage_error: 51.5402\n",
            "Epoch 96/100\n",
            "8/8 [==============================] - 0s 11ms/step - loss: 0.0627 - mean_absolute_percentage_error: 51.3582 - val_loss: 0.0433 - val_mean_absolute_percentage_error: 51.6692\n",
            "Epoch 97/100\n",
            "8/8 [==============================] - 0s 11ms/step - loss: 0.0626 - mean_absolute_percentage_error: 51.3731 - val_loss: 0.0433 - val_mean_absolute_percentage_error: 51.8098\n",
            "Epoch 98/100\n",
            "8/8 [==============================] - 0s 10ms/step - loss: 0.0627 - mean_absolute_percentage_error: 51.5292 - val_loss: 0.0433 - val_mean_absolute_percentage_error: 51.9363\n",
            "Epoch 99/100\n",
            "8/8 [==============================] - 0s 12ms/step - loss: 0.0627 - mean_absolute_percentage_error: 51.8794 - val_loss: 0.0433 - val_mean_absolute_percentage_error: 52.0488\n",
            "Epoch 100/100\n",
            "8/8 [==============================] - 0s 12ms/step - loss: 0.0625 - mean_absolute_percentage_error: 51.8973 - val_loss: 0.0433 - val_mean_absolute_percentage_error: 52.1672\n"
          ]
        },
        {
          "output_type": "execute_result",
          "data": {
            "text/plain": [
              "<keras.callbacks.History at 0x7fafbe515b20>"
            ]
          },
          "metadata": {},
          "execution_count": 57
        }
      ]
    },
    {
      "cell_type": "code",
      "source": [
        "model.predict(np.array([x_test[0]]))"
      ],
      "metadata": {
        "colab": {
          "base_uri": "https://localhost:8080/"
        },
        "id": "7jy-r3YbGSdT",
        "outputId": "93b8231d-31a9-43fe-e3df-6f981dbbd0d3"
      },
      "execution_count": null,
      "outputs": [
        {
          "output_type": "stream",
          "name": "stdout",
          "text": [
            "1/1 [==============================] - 1s 647ms/step\n"
          ]
        },
        {
          "output_type": "execute_result",
          "data": {
            "text/plain": [
              "array([[0.256435  , 0.25274804, 0.29540592, 0.27944687, 0.26679528,\n",
              "        0.28719786, 0.2993717 , 0.2965721 , 0.2922628 , 0.3518889 ,\n",
              "        0.36059237, 0.3165911 ]], dtype=float32)"
            ]
          },
          "metadata": {},
          "execution_count": 58
        }
      ]
    },
    {
      "cell_type": "code",
      "source": [
        "y_test[0]"
      ],
      "metadata": {
        "colab": {
          "base_uri": "https://localhost:8080/"
        },
        "id": "qEHyFVNLGV8h",
        "outputId": "6bf39a65-c8a4-44bb-e3fe-6eec05c0a418"
      },
      "execution_count": null,
      "outputs": [
        {
          "output_type": "execute_result",
          "data": {
            "text/plain": [
              "[0.19688397794509202,\n",
              " 0.11500108090856599,\n",
              " 0.2799147853429554,\n",
              " 0.8793655659387677,\n",
              " 0.5564245579971562,\n",
              " 0.6263117289397936,\n",
              " 0.5238161404794415,\n",
              " 0.34901840591794836,\n",
              " 0.20920952273706026,\n",
              " 0.26360599405602364,\n",
              " 0.27612252420421923,\n",
              " 0.49860431292767105]"
            ]
          },
          "metadata": {},
          "execution_count": 59
        }
      ]
    },
    {
      "cell_type": "markdown",
      "source": [
        "**Processing Results**"
      ],
      "metadata": {
        "id": "SY9WcxUgWJwd"
      }
    },
    {
      "cell_type": "code",
      "source": [
        "def compare_ai_to_models(null, ai, test_data):\n",
        "  null_results = []\n",
        "  ai_results = []\n",
        "  for i in range(len(test_data)):\n",
        "    comparison_data = test_data[i]\n",
        "    null_temp = []\n",
        "    ai_temp = []\n",
        "    for j in range(len(comparison_data)):\n",
        "      null_temp += [abs(null[i][j] - comparison_data[j])/comparison_data[j]]\n",
        "      ai_temp += [abs(ai[i][j] - comparison_data[j])/comparison_data[j]]\n",
        "    null_results += [null_temp]\n",
        "    ai_results += [ai_temp]\n",
        "  \n",
        "  null_results = np.array(null_results).mean(axis=0)\n",
        "  ai_results = np.array(ai_results).mean(axis=0)\n",
        "\n",
        "  null_results = np.append(null_results, null_results.mean())\n",
        "  ai_results = np.append(ai_results, ai_results.mean())\n",
        "\n",
        "  dataframe = pd.DataFrame.from_dict(data = {\"\": [\"Month 1\", \"Month 2\", \"Month 3\", \"Month 4\", \"Month 5\", \"Month 6\", \"Month 7\", \"Month 8\", \"Month 9\", \"Month 10\", \"Month 11\", \"Month 12\", \"Average\"], \n",
        "               \"Null Percent Error\": null_results, \n",
        "               \"AI Percent Error\": ai_results})\n",
        "  return dataframe"
      ],
      "metadata": {
        "id": "5LP2GvPRZa9Y"
      },
      "execution_count": null,
      "outputs": []
    },
    {
      "cell_type": "code",
      "source": [
        "ai_test = []\n",
        "for i in x_test:\n",
        "  ai_test += model.predict(np.array([i])).tolist()\n",
        "\n",
        "print(compare_ai_to_models(null_test, ai_test, y_test))"
      ],
      "metadata": {
        "id": "GIfvFkCMWM1R",
        "colab": {
          "base_uri": "https://localhost:8080/"
        },
        "outputId": "faa10486-3068-4c79-d342-5a4ea74610f9"
      },
      "execution_count": null,
      "outputs": [
        {
          "output_type": "stream",
          "name": "stdout",
          "text": [
            "1/1 [==============================] - 0s 16ms/step\n",
            "1/1 [==============================] - 0s 16ms/step\n",
            "1/1 [==============================] - 0s 16ms/step\n",
            "1/1 [==============================] - 0s 16ms/step\n",
            "1/1 [==============================] - 0s 14ms/step\n",
            "1/1 [==============================] - 0s 16ms/step\n",
            "1/1 [==============================] - 0s 16ms/step\n",
            "1/1 [==============================] - 0s 19ms/step\n",
            "1/1 [==============================] - 0s 16ms/step\n",
            "1/1 [==============================] - 0s 17ms/step\n",
            "1/1 [==============================] - 0s 16ms/step\n",
            "1/1 [==============================] - 0s 17ms/step\n",
            "1/1 [==============================] - 0s 17ms/step\n",
            "1/1 [==============================] - 0s 17ms/step\n",
            "1/1 [==============================] - 0s 19ms/step\n",
            "1/1 [==============================] - 0s 18ms/step\n",
            "1/1 [==============================] - 0s 17ms/step\n",
            "1/1 [==============================] - 0s 18ms/step\n",
            "1/1 [==============================] - 0s 18ms/step\n",
            "1/1 [==============================] - 0s 18ms/step\n",
            "1/1 [==============================] - 0s 17ms/step\n",
            "1/1 [==============================] - 0s 17ms/step\n",
            "1/1 [==============================] - 0s 17ms/step\n",
            "1/1 [==============================] - 0s 16ms/step\n",
            "1/1 [==============================] - 0s 16ms/step\n",
            "1/1 [==============================] - 0s 14ms/step\n",
            "1/1 [==============================] - 0s 14ms/step\n",
            "1/1 [==============================] - 0s 15ms/step\n",
            "1/1 [==============================] - 0s 27ms/step\n",
            "1/1 [==============================] - 0s 18ms/step\n",
            "1/1 [==============================] - 0s 17ms/step\n",
            "1/1 [==============================] - 0s 16ms/step\n",
            "1/1 [==============================] - 0s 18ms/step\n",
            "1/1 [==============================] - 0s 15ms/step\n",
            "1/1 [==============================] - 0s 17ms/step\n",
            "1/1 [==============================] - 0s 17ms/step\n",
            "1/1 [==============================] - 0s 16ms/step\n",
            "1/1 [==============================] - 0s 14ms/step\n",
            "1/1 [==============================] - 0s 16ms/step\n",
            "1/1 [==============================] - 0s 17ms/step\n",
            "1/1 [==============================] - 0s 17ms/step\n",
            "1/1 [==============================] - 0s 20ms/step\n",
            "1/1 [==============================] - 0s 14ms/step\n",
            "1/1 [==============================] - 0s 14ms/step\n",
            "1/1 [==============================] - 0s 19ms/step\n",
            "1/1 [==============================] - 0s 18ms/step\n",
            "1/1 [==============================] - 0s 17ms/step\n",
            "1/1 [==============================] - 0s 17ms/step\n",
            "1/1 [==============================] - 0s 16ms/step\n",
            "1/1 [==============================] - 0s 20ms/step\n",
            "1/1 [==============================] - 0s 17ms/step\n",
            "1/1 [==============================] - 0s 15ms/step\n",
            "1/1 [==============================] - 0s 15ms/step\n",
            "1/1 [==============================] - 0s 15ms/step\n",
            "1/1 [==============================] - 0s 15ms/step\n",
            "1/1 [==============================] - 0s 15ms/step\n",
            "1/1 [==============================] - 0s 14ms/step\n",
            "1/1 [==============================] - 0s 16ms/step\n",
            "1/1 [==============================] - 0s 17ms/step\n",
            "1/1 [==============================] - 0s 16ms/step\n",
            "1/1 [==============================] - 0s 14ms/step\n",
            "1/1 [==============================] - 0s 17ms/step\n",
            "1/1 [==============================] - 0s 15ms/step\n",
            "1/1 [==============================] - 0s 17ms/step\n",
            "1/1 [==============================] - 0s 17ms/step\n",
            "1/1 [==============================] - 0s 17ms/step\n",
            "1/1 [==============================] - 0s 15ms/step\n",
            "1/1 [==============================] - 0s 15ms/step\n",
            "1/1 [==============================] - 0s 15ms/step\n",
            "1/1 [==============================] - 0s 17ms/step\n",
            "1/1 [==============================] - 0s 15ms/step\n",
            "1/1 [==============================] - 0s 15ms/step\n",
            "1/1 [==============================] - 0s 20ms/step\n",
            "1/1 [==============================] - 0s 14ms/step\n",
            "1/1 [==============================] - 0s 17ms/step\n",
            "1/1 [==============================] - 0s 16ms/step\n",
            "1/1 [==============================] - 0s 20ms/step\n",
            "1/1 [==============================] - 0s 15ms/step\n",
            "1/1 [==============================] - 0s 16ms/step\n",
            "1/1 [==============================] - 0s 15ms/step\n",
            "1/1 [==============================] - 0s 17ms/step\n",
            "1/1 [==============================] - 0s 16ms/step\n",
            "1/1 [==============================] - 0s 16ms/step\n",
            "1/1 [==============================] - 0s 17ms/step\n",
            "1/1 [==============================] - 0s 16ms/step\n",
            "1/1 [==============================] - 0s 18ms/step\n",
            "1/1 [==============================] - 0s 14ms/step\n",
            "1/1 [==============================] - 0s 14ms/step\n",
            "1/1 [==============================] - 0s 17ms/step\n",
            "1/1 [==============================] - 0s 14ms/step\n",
            "1/1 [==============================] - 0s 17ms/step\n",
            "1/1 [==============================] - 0s 16ms/step\n",
            "1/1 [==============================] - 0s 17ms/step\n",
            "1/1 [==============================] - 0s 17ms/step\n",
            "1/1 [==============================] - 0s 16ms/step\n",
            "1/1 [==============================] - 0s 17ms/step\n",
            "1/1 [==============================] - 0s 14ms/step\n",
            "1/1 [==============================] - 0s 14ms/step\n",
            "1/1 [==============================] - 0s 16ms/step\n",
            "              Null Percent Error  AI Percent Error\n",
            "0    Month 1            0.900386          0.404981\n",
            "1    Month 2            0.733761          0.336205\n",
            "2    Month 3            0.776665          0.517976\n",
            "3    Month 4            0.745656          0.502168\n",
            "4    Month 5            0.790531          0.492419\n",
            "5    Month 6            0.775289          0.556077\n",
            "6    Month 7            0.822555          0.576250\n",
            "7    Month 8            0.747100          0.575700\n",
            "8    Month 9            0.759344          0.415360\n",
            "9   Month 10            0.783669          0.641619\n",
            "10  Month 11            0.839222          0.713648\n",
            "11  Month 12            0.747916          0.527657\n",
            "12   Average            0.785174          0.521672\n"
          ]
        }
      ]
    },
    {
      "cell_type": "markdown",
      "source": [
        "**Graphing Functions**"
      ],
      "metadata": {
        "id": "j6Zsz0oDWfXd"
      }
    },
    {
      "cell_type": "code",
      "source": [
        "def graph_test(ticker):\n",
        "  values = historical_volatility(ticker, \"5Y\")\n",
        "  y_coords = values[0:24]\n",
        "  y_coords.reverse()\n",
        "  x_coords = range(24)\n",
        "  plt.plot(x_coords, y_coords, label=\"Recorded Values\")\n",
        "\n",
        "  ai_predictions = [y_coords[11]] + model.predict(np.array([y_coords[0:12]])).tolist()[0]\n",
        "  prediction_x_coords = np.arange(13) + 11\n",
        "  plt.plot(prediction_x_coords, ai_predictions, label=\"AI predictions\")\n",
        "  \n",
        "  null_predictions = np.repeat(y_coords[11], 13)\n",
        "  plt.plot(prediction_x_coords, null_predictions, label=\"Constant Value\")\n",
        "  plt.title(ticker + \" Volatility\")\n",
        "  plt.ylabel(\"Volatility\")\n",
        "  plt.xlabel(\"Months\")\n",
        "  plt.legend()\n",
        "  plt.show()\n",
        "  "
      ],
      "metadata": {
        "id": "tJf77TClWixR"
      },
      "execution_count": null,
      "outputs": []
    },
    {
      "cell_type": "code",
      "source": [
        "graph_test(\"WMT\")"
      ],
      "metadata": {
        "colab": {
          "base_uri": "https://localhost:8080/",
          "height": 312
        },
        "id": "bNzNT2MpXlYt",
        "outputId": "f9eab2bf-7b81-47d2-9d40-fe5b8d665d3b"
      },
      "execution_count": null,
      "outputs": [
        {
          "output_type": "stream",
          "name": "stdout",
          "text": [
            "1/1 [==============================] - 0s 19ms/step\n"
          ]
        },
        {
          "output_type": "display_data",
          "data": {
            "text/plain": [
              "<Figure size 432x288 with 1 Axes>"
            ],
            "image/png": "[encoded data removed]"
          },
          "metadata": {
            "needs_background": "light"
          }
        }
      ]
    }
  ]
}